{
 "cells": [
  {
   "cell_type": "code",
   "execution_count": 46,
   "id": "2807a15b",
   "metadata": {},
   "outputs": [],
   "source": [
    "#Import necessary libraries,\n",
    "import pandas as pd\n",
    "import numpy as np\n",
    "from sentence_transformers import SentenceTransformer\n",
    "from sklearn.metrics.pairwise import cosine_similarity\n",
    "import streamlit as st\n",
    "import io"
   ]
  },
  {
   "cell_type": "code",
   "execution_count": 3,
   "id": "16438f29",
   "metadata": {},
   "outputs": [],
   "source": [
    "@st.cache_resource\n",
    "def load_bge_model():\n",
    "    \"\"\"Load BGE model with caching for Streamlit\"\"\"\n",
    "    return SentenceTransformer('BAAI/bge-large-en-v1.5')"
   ]
  },
  {
   "cell_type": "code",
   "execution_count": 4,
   "id": "5a644e6e",
   "metadata": {},
   "outputs": [],
   "source": [
    "def initialize_embedding_model():\n",
    "    try:\n",
    "        model = load_bge_model()\n",
    "        st.success(\"BGE Large model loaded successfully!\")\n",
    "        return model\n",
    "    except Exception as e:\n",
    "        st.error(f\"Failed to load BGE model: {str(e)}\")\n",
    "        return None\n"
   ]
  },
  {
   "cell_type": "code",
   "execution_count": 5,
   "id": "c32a38b8",
   "metadata": {},
   "outputs": [
    {
     "name": "stderr",
     "output_type": "stream",
     "text": [
      "2025-06-09 15:02:43.332 WARNING streamlit.runtime.scriptrunner_utils.script_run_context: Thread 'MainThread': missing ScriptRunContext! This warning can be ignored when running in bare mode.\n",
      "2025-06-09 15:02:46.858 \n",
      "  \u001b[33m\u001b[1mWarning:\u001b[0m to view this Streamlit app on a browser, run it with the following\n",
      "  command:\n",
      "\n",
      "    streamlit run C:\\Users\\Admin\\anaconda3\\Lib\\site-packages\\ipykernel_launcher.py [ARGUMENTS]\n",
      "2025-06-09 15:02:46.862 Thread 'MainThread': missing ScriptRunContext! This warning can be ignored when running in bare mode.\n",
      "2025-06-09 15:02:46.867 Thread 'MainThread': missing ScriptRunContext! This warning can be ignored when running in bare mode.\n",
      "2025-06-09 15:02:47.387 Thread 'Thread-5': missing ScriptRunContext! This warning can be ignored when running in bare mode.\n",
      "2025-06-09 15:02:47.401 Thread 'Thread-5': missing ScriptRunContext! This warning can be ignored when running in bare mode.\n"
     ]
    },
    {
     "data": {
      "application/vnd.jupyter.widget-view+json": {
       "model_id": "a6d5341491414da6a853c105696aafd5",
       "version_major": 2,
       "version_minor": 0
      },
      "text/plain": [
       "modules.json:   0%|          | 0.00/349 [00:00<?, ?B/s]"
      ]
     },
     "metadata": {},
     "output_type": "display_data"
    },
    {
     "data": {
      "application/vnd.jupyter.widget-view+json": {
       "model_id": "7dab790aad79422d855595c093d81a5e",
       "version_major": 2,
       "version_minor": 0
      },
      "text/plain": [
       "config_sentence_transformers.json:   0%|          | 0.00/124 [00:00<?, ?B/s]"
      ]
     },
     "metadata": {},
     "output_type": "display_data"
    },
    {
     "data": {
      "application/vnd.jupyter.widget-view+json": {
       "model_id": "f5f24ebcfaf3444b86c96a8c90c085d9",
       "version_major": 2,
       "version_minor": 0
      },
      "text/plain": [
       "README.md:   0%|          | 0.00/94.6k [00:00<?, ?B/s]"
      ]
     },
     "metadata": {},
     "output_type": "display_data"
    },
    {
     "data": {
      "application/vnd.jupyter.widget-view+json": {
       "model_id": "ab68addf66ad4a47904bb5507a63831b",
       "version_major": 2,
       "version_minor": 0
      },
      "text/plain": [
       "sentence_bert_config.json:   0%|          | 0.00/52.0 [00:00<?, ?B/s]"
      ]
     },
     "metadata": {},
     "output_type": "display_data"
    },
    {
     "data": {
      "application/vnd.jupyter.widget-view+json": {
       "model_id": "ab9e625b40df4665a412e4df61cd08e6",
       "version_major": 2,
       "version_minor": 0
      },
      "text/plain": [
       "config.json:   0%|          | 0.00/779 [00:00<?, ?B/s]"
      ]
     },
     "metadata": {},
     "output_type": "display_data"
    },
    {
     "data": {
      "application/vnd.jupyter.widget-view+json": {
       "model_id": "5005351a76ab4ad184ac017301304ba3",
       "version_major": 2,
       "version_minor": 0
      },
      "text/plain": [
       "model.safetensors:   0%|          | 0.00/1.34G [00:00<?, ?B/s]"
      ]
     },
     "metadata": {},
     "output_type": "display_data"
    },
    {
     "data": {
      "application/vnd.jupyter.widget-view+json": {
       "model_id": "dba25ec09cb345acb7302a07e8291f08",
       "version_major": 2,
       "version_minor": 0
      },
      "text/plain": [
       "tokenizer_config.json:   0%|          | 0.00/366 [00:00<?, ?B/s]"
      ]
     },
     "metadata": {},
     "output_type": "display_data"
    },
    {
     "data": {
      "application/vnd.jupyter.widget-view+json": {
       "model_id": "33b4c238bfb04b3ab4f891e8fd84c8db",
       "version_major": 2,
       "version_minor": 0
      },
      "text/plain": [
       "vocab.txt:   0%|          | 0.00/232k [00:00<?, ?B/s]"
      ]
     },
     "metadata": {},
     "output_type": "display_data"
    },
    {
     "data": {
      "application/vnd.jupyter.widget-view+json": {
       "model_id": "49c754cde6644f05a9ad1fdffacc2add",
       "version_major": 2,
       "version_minor": 0
      },
      "text/plain": [
       "tokenizer.json:   0%|          | 0.00/711k [00:00<?, ?B/s]"
      ]
     },
     "metadata": {},
     "output_type": "display_data"
    },
    {
     "data": {
      "application/vnd.jupyter.widget-view+json": {
       "model_id": "7fef91d7b31f4a628d2102c89294d1cb",
       "version_major": 2,
       "version_minor": 0
      },
      "text/plain": [
       "special_tokens_map.json:   0%|          | 0.00/125 [00:00<?, ?B/s]"
      ]
     },
     "metadata": {},
     "output_type": "display_data"
    },
    {
     "data": {
      "application/vnd.jupyter.widget-view+json": {
       "model_id": "a8782fbc576f4e09bfb8789187d4289f",
       "version_major": 2,
       "version_minor": 0
      },
      "text/plain": [
       "config.json:   0%|          | 0.00/191 [00:00<?, ?B/s]"
      ]
     },
     "metadata": {},
     "output_type": "display_data"
    },
    {
     "name": "stderr",
     "output_type": "stream",
     "text": [
      "2025-06-09 15:06:30.383 Thread 'MainThread': missing ScriptRunContext! This warning can be ignored when running in bare mode.\n",
      "2025-06-09 15:06:30.386 Thread 'MainThread': missing ScriptRunContext! This warning can be ignored when running in bare mode.\n",
      "2025-06-09 15:06:30.396 Thread 'MainThread': missing ScriptRunContext! This warning can be ignored when running in bare mode.\n",
      "2025-06-09 15:06:30.401 Thread 'MainThread': missing ScriptRunContext! This warning can be ignored when running in bare mode.\n"
     ]
    }
   ],
   "source": [
    "# Usage in your app\n",
    "embedding_model = initialize_embedding_model()"
   ]
  },
  {
   "cell_type": "code",
   "execution_count": 6,
   "id": "51874c90",
   "metadata": {},
   "outputs": [
    {
     "name": "stdout",
     "output_type": "stream",
     "text": [
      "Embedding generated: (1, 1024)\n"
     ]
    }
   ],
   "source": [
    "if embedding_model:\n",
    "    # Use the model for embeddings\n",
    "    text = \"Sample banking compliance text\"\n",
    "    embedding = embedding_model.encode([text])\n",
    "    print(f\"Embedding generated: {embedding.shape}\")"
   ]
  },
  {
   "cell_type": "code",
   "execution_count": 7,
   "id": "16bc1035",
   "metadata": {},
   "outputs": [
    {
     "name": "stdout",
     "output_type": "stream",
     "text": [
      "CSV loaded successfully. First 5 rows:\n",
      "  customer_id customer_type       full_name_en       full_name_ar  \\\n",
      "0   CUS770487    INDIVIDUAL       Ali Al-Zaabi       Ali Al-Zaabi   \n",
      "1   CUS865179    INDIVIDUAL   Fatima Al-Shamsi   Fatima Al-Shamsi   \n",
      "2   CUS133659     CORPORATE    Fatima Al-Zaabi    Fatima Al-Zaabi   \n",
      "3   CUS216970    INDIVIDUAL   Sara Al-Mansouri   Sara Al-Mansouri   \n",
      "4   CUS377932     CORPORATE  Hassan Al-Suwaidi  Hassan Al-Suwaidi   \n",
      "\n",
      "        id_number      id_type date_of_birth  nationality  \\\n",
      "0  78419988078673  EMIRATES_ID    1971-01-03        EGYPT   \n",
      "1  78419814823498  EMIRATES_ID    1994-05-03        INDIA   \n",
      "2  78419845443951  EMIRATES_ID    1974-04-24  PHILIPPINES   \n",
      "3  78420006007072  EMIRATES_ID    1996-11-17        SYRIA   \n",
      "4  78419949683481  EMIRATES_ID    1984-02-08        SYRIA   \n",
      "\n",
      "             address_line1 address_line2  ... waiting_period_start  \\\n",
      "0  Building 224, Street 15       Area 17  ...           2021-12-27   \n",
      "1  Building 876, Street 15        Area 4  ...           2018-10-01   \n",
      "2  Building 575, Street 35        Area 9  ...           2021-02-21   \n",
      "3  Building 624, Street 13        Area 5  ...           2021-03-28   \n",
      "4   Building 231, Street 5       Area 11  ...           2019-01-18   \n",
      "\n",
      "  waiting_period_end transferred_to_ledger_date  transferred_to_cb_date  \\\n",
      "0         2022-03-26                        NaN                     NaN   \n",
      "1         2018-12-29                        NaN                     NaN   \n",
      "2         2021-05-21                        NaN                     NaN   \n",
      "3         2021-06-25                        NaN                     NaN   \n",
      "4         2019-04-17                        NaN                     NaN   \n",
      "\n",
      "   cb_transfer_amount  cb_transfer_reference exclusion_reason  \\\n",
      "0                 NaN                    NaN              NaN   \n",
      "1            30964.14               CB961722              NaN   \n",
      "2                 NaN                    NaN              NaN   \n",
      "3                 NaN                    NaN              NaN   \n",
      "4            10137.44               CB790993              NaN   \n",
      "\n",
      "          created_date         updated_date updated_by  \n",
      "0  2016-05-01 00:00:00  2024-12-01 00:00:00     SYSTEM  \n",
      "1  2019-11-12 00:00:00  2024-12-01 00:00:00     SYSTEM  \n",
      "2  2018-04-28 00:00:00  2024-12-01 00:00:00     SYSTEM  \n",
      "3  2015-05-18 00:00:00  2024-12-01 00:00:00     SYSTEM  \n",
      "4  2020-06-04 00:00:00  2024-12-01 00:00:00     SYSTEM  \n",
      "\n",
      "[5 rows x 66 columns]\n"
     ]
    }
   ],
   "source": [
    "try:\n",
    "    df = pd.read_csv('banking_compliance_dataset_500_rows.csv')\n",
    "    print(\"CSV loaded successfully. First 5 rows:\")\n",
    "    print(df.head())\n",
    "except FileNotFoundError:\n",
    "    print(\"Error: 'banking_compliance_dataset_500_rows.csv' not found.\")\n",
    "    print(\"Please ensure the CSV file is in the same directory as the script.\")\n",
    "    exit()"
   ]
  },
  {
   "cell_type": "code",
   "execution_count": 8,
   "id": "abb4db20",
   "metadata": {},
   "outputs": [],
   "source": [
    "# Step 2: Select relevant text columns for embedding\n",
    "# For a banking compliance app, relevant text fields might include:\n",
    "# 'full_name_en', 'address_line1', 'address_line2', 'city', 'country', 'email_primary', 'kyc_status', 'risk_rating', 'account_type', 'account_subtype', 'account_name', 'account_status', 'dormancy_status', 'exclusion_reason'\n",
    "# You might want to combine these into a single text string for each customer/account\n",
    "# Let's create a combined 'text_for_embedding' column.\n",
    "# We'll fill NaN values with empty strings to avoid errors during string concatenation.\n",
    "\n",
    "text_columns = [\n",
    "    'customer_type', 'full_name_en', 'nationality', 'address_line1',\n",
    "    'city', 'emirate', 'country', 'email_primary', 'kyc_status',\n",
    "    'risk_rating', 'account_type', 'account_subtype', 'account_name',\n",
    "    'account_status', 'dormancy_status', 'exclusion_reason'\n",
    "]\n"
   ]
  },
  {
   "cell_type": "code",
   "execution_count": 9,
   "id": "a4ee7c80",
   "metadata": {},
   "outputs": [],
   "source": [
    "# Create a copy to avoid SettingWithCopyWarning\n",
    "df_processed = df.copy()"
   ]
  },
  {
   "cell_type": "code",
   "execution_count": 10,
   "id": "0f62a920",
   "metadata": {},
   "outputs": [],
   "source": [
    "# Combine relevant text columns into a new column for embedding\n",
    "# Join non-null string values with a space\n",
    "df_processed['text_for_embedding'] = df_processed[text_columns].astype(str).agg(' '.join, axis=1)\n"
   ]
  },
  {
   "cell_type": "code",
   "execution_count": 11,
   "id": "7da2fedc",
   "metadata": {},
   "outputs": [],
   "source": [
    "# Clean up redundant spaces that might result from concatenation\n",
    "df_processed['text_for_embedding'] = df_processed['text_for_embedding'].str.replace(r'\\s+', ' ', regex=True).str.strip()\n"
   ]
  },
  {
   "cell_type": "code",
   "execution_count": 12,
   "id": "3156f298",
   "metadata": {},
   "outputs": [
    {
     "name": "stdout",
     "output_type": "stream",
     "text": [
      "\n",
      "Prepared text for embedding (first 5 entries):\n",
      "Entry 1: INDIVIDUAL Ali Al-Zaabi EGYPT Building 224, Street 15 Dubai FUJAIRAH UAE ali.al-zaabi@hotmail.com PENDING LOW CURRENT JOINT CURRENT - Ali Al-Zaabi DORMANT FLAGGED nan\n",
      "Entry 2: INDIVIDUAL Fatima Al-Shamsi INDIA Building 876, Street 15 Ajman SHARJAH UAE fatima.al-shamsi@outlook.com PENDING HIGH CURRENT CORPORATE CURRENT - Fatima Al-Shamsi DORMANT FLAGGED nan\n",
      "Entry 3: CORPORATE Fatima Al-Zaabi PHILIPPINES Building 575, Street 35 Ajman FUJAIRAH UAE fatima.al-zaabi@yahoo.com COMPLIANT HIGH INVESTMENT SECURITIES INVESTMENT - Fatima Al-Zaabi DORMANT FLAGGED nan\n",
      "Entry 4: INDIVIDUAL Sara Al-Mansouri SYRIA Building 624, Street 13 Sharjah UMM_AL_QUWAIN UAE sara.al-mansouri@gmail.com COMPLIANT LOW INVESTMENT MUTUAL_FUND INVESTMENT - Sara Al-Mansouri DORMANT FLAGGED nan\n",
      "Entry 5: CORPORATE Hassan Al-Suwaidi SYRIA Building 231, Street 5 Dubai FUJAIRAH UAE hassan.al-suwaidi@gmail.com COMPLIANT LOW INVESTMENT MUTUAL_FUND INVESTMENT - Hassan Al-Suwaidi DORMANT FLAGGED nan\n"
     ]
    }
   ],
   "source": [
    "print(\"\\nPrepared text for embedding (first 5 entries):\")\n",
    "for i, text in enumerate(df_processed['text_for_embedding'].head()):\n",
    "    print(f\"Entry {i+1}: {text}\")"
   ]
  },
  {
   "cell_type": "code",
   "execution_count": 47,
   "id": "11591a4d",
   "metadata": {
    "scrolled": true
   },
   "outputs": [
    {
     "name": "stdout",
     "output_type": "stream",
     "text": [
      "\n",
      "Loading BGE-large model. This may take a while for the first time...\n",
      "Model loaded successfully.\n",
      "Generating embeddings for the text data...\n"
     ]
    },
    {
     "data": {
      "application/vnd.jupyter.widget-view+json": {
       "model_id": "d669bb721580424b83cb35788908697b",
       "version_major": 2,
       "version_minor": 0
      },
      "text/plain": [
       "Batches:   0%|          | 0/16 [00:00<?, ?it/s]"
      ]
     },
     "metadata": {},
     "output_type": "display_data"
    },
    {
     "name": "stdout",
     "output_type": "stream",
     "text": [
      "Embeddings shape: (500, 1024)\n"
     ]
    }
   ],
   "source": [
    "# Step 3: Load the BGE-large model and generate embeddings\n",
    "print(\"\\nLoading BGE-large model. This may take a while for the first time...\")\n",
    "# 'BAAI/bge-large-en-v1.5' is a common identifier for BGE-large.\n",
    "# You might need to specify a different version if 'bge-large-en-v1.5' is not the exact one you intend.\n",
    "try:\n",
    "    model = SentenceTransformer('BAAI/bge-large-en-v1.5')\n",
    "    print(\"Model loaded successfully.\")\n",
    "    print(\"Generating embeddings for the text data...\")\n",
    "    # Generate embeddings for all text entries\n",
    "    embeddings = model.encode(df_processed['text_for_embedding'].tolist(), show_progress_bar=True)\n",
    "    # Alternative print statement to avoid f-string syntax for debugging purposes\n",
    "    embeddings = np.array(embeddings)\n",
    "    print(\"Embeddings shape:\", embeddings.shape)\n",
    "except Exception as e:\n",
    "    print(\"❌ Error:\", str(e))"
   ]
  },
  {
   "cell_type": "code",
   "execution_count": 48,
   "id": "6689e477",
   "metadata": {},
   "outputs": [],
   "source": [
    " # Store embeddings in the DataFrame (optional, but useful for later use)\n",
    "df_processed['embedding'] = list(embeddings)"
   ]
  },
  {
   "cell_type": "code",
   "execution_count": 49,
   "id": "9b2a6015",
   "metadata": {},
   "outputs": [
    {
     "name": "stdout",
     "output_type": "stream",
     "text": [
      "\n",
      "Calculating similarity scores...\n"
     ]
    }
   ],
   "source": [
    "# Step 4: Generate similarity scores\n",
    "print(\"\\nCalculating similarity scores...\")"
   ]
  },
  {
   "cell_type": "code",
   "execution_count": 50,
   "id": "8084efdc",
   "metadata": {},
   "outputs": [],
   "source": [
    "# Example: Find the most similar customer/account to the first entry\n",
    "    # (This is a demonstration; in a real app, you'd embed a query string\n",
    "    # and compare it against all document embeddings.)\n",
    "\n",
    "if len(embeddings) > 1:\n",
    "        query_embedding = embeddings[0] # Using the first entry as a query example\n"
   ]
  },
  {
   "cell_type": "code",
   "execution_count": 51,
   "id": "31ec947c",
   "metadata": {},
   "outputs": [],
   "source": [
    " # Calculate cosine similarity between the query embedding and all other embeddings\n",
    "        # Reshape query_embedding for cosine_similarity if it's a single vector\n",
    "query_embedding_reshaped = query_embedding.reshape(1, -1)\n",
    "        "
   ]
  },
  {
   "cell_type": "code",
   "execution_count": 52,
   "id": "8193cb64",
   "metadata": {},
   "outputs": [],
   "source": [
    "# Calculate similarity with all other embeddings\n",
    "similarities = cosine_similarity(query_embedding_reshaped, embeddings)\n"
   ]
  },
  {
   "cell_type": "code",
   "execution_count": 53,
   "id": "e6863acd",
   "metadata": {},
   "outputs": [],
   "source": [
    "# The result is a 2D array, take the first row for a 1D array of similarities\n",
    "similarity_scores = similarities[0]"
   ]
  },
  {
   "cell_type": "code",
   "execution_count": 54,
   "id": "e9fef0bb",
   "metadata": {},
   "outputs": [],
   "source": [
    "# Get top N most similar\n",
    "top_n = 5\n",
    "        # Exclude self-similarity if the query is from the dataset\n",
    "if len(similarity_scores) > 0 and np.isclose(similarity_scores[0], 1.0):\n",
    "             # Sort indices by similarity score in descending order, exclude the first one (self)\n",
    "    most_similar_indices = similarity_scores.argsort()[-top_n-1:][::-1][1:]\n",
    "else:\n",
    "            # Sort indices by similarity score in descending order\n",
    "    most_similar_indices = similarity_scores.argsort()[-top_n:][::-1]\n"
   ]
  },
  {
   "cell_type": "code",
   "execution_count": 59,
   "id": "6a6ecfc4",
   "metadata": {},
   "outputs": [
    {
     "name": "stdout",
     "output_type": "stream",
     "text": [
      "\n",
      "Top 5 most similar entries to 'INDIVIDUAL Ali Al-Zaabi EGYPT Building 224, Street 15 Dubai FUJAIRAH UAE ali.al-zaabi@hotmail.com PENDING LOW CURRENT JOINT CURRENT - Ali Al-Zaabi DORMANT FLAGGED nan' (excluding itself if applicable):\n",
      "Rank 1: Customer ID: CUS181896, Score: 0.8961, KYC Status: EXPIRED, Risk: LOW\n",
      "Rank 2: Customer ID: CUS590110, Score: 0.8935, KYC Status: PENDING, Risk: LOW\n",
      "Rank 3: Customer ID: CUS335113, Score: 0.8864, KYC Status: COMPLIANT, Risk: HIGH\n",
      "Rank 4: Customer ID: CUS625600, Score: 0.8835, KYC Status: PENDING, Risk: LOW\n",
      "Rank 5: Customer ID: CUS476701, Score: 0.8829, KYC Status: EXPIRED, Risk: MEDIUM\n",
      "Not enough entries in the dataset to calculate similarity.\n"
     ]
    }
   ],
   "source": [
    "    print(f\"\\nTop {top_n} most similar entries to '{df_processed.loc[0, 'text_for_embedding']}' (excluding itself if applicable):\")\n",
    "    for rank, idx in enumerate(most_similar_indices):\n",
    "            score = similarity_scores[idx]\n",
    "            original_text = df_processed.loc[idx, 'text_for_embedding']\n",
    "            customer_id = df_processed.loc[idx, 'customer_id']\n",
    "            kyc_status = df_processed.loc[idx, 'kyc_status']\n",
    "            risk_rating = df_processed.loc[idx, 'risk_rating']\n",
    "\n",
    "            print(f\"Rank {rank+1}: Customer ID: {customer_id}, Score: {score:.4f}, KYC Status: {kyc_status}, Risk: {risk_rating}\")\n",
    "            # print(f\"    Original Text: {original_text}\") # Uncomment to see the full text\n",
    "\n",
    "else:\n",
    "        print(\"Not enough entries in the dataset to calculate similarity.\")\n",
    "\n"
   ]
  },
  {
   "cell_type": "code",
   "execution_count": null,
   "id": "648298b2",
   "metadata": {},
   "outputs": [],
   "source": []
  }
 ],
 "metadata": {
  "kernelspec": {
   "display_name": "Python 3 (ipykernel)",
   "language": "python",
   "name": "python3"
  },
  "language_info": {
   "codemirror_mode": {
    "name": "ipython",
    "version": 3
   },
   "file_extension": ".py",
   "mimetype": "text/x-python",
   "name": "python",
   "nbconvert_exporter": "python",
   "pygments_lexer": "ipython3",
   "version": "3.11.7"
  }
 },
 "nbformat": 4,
 "nbformat_minor": 5
}
